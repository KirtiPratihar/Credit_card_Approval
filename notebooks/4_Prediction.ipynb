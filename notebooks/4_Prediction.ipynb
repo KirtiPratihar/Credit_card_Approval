{
 "cells": [
  {
   "cell_type": "code",
   "execution_count": 1,
   "id": "43ed7da9",
   "metadata": {},
   "outputs": [
    {
     "name": "stdout",
     "output_type": "stream",
     "text": [
      "\n",
      "📥 Please enter the following details:\n",
      "\n",
      " Probability of Bad Credit: 0.2500\n",
      " Prediction: GOOD CREDIT RISK — Eligible for Credit Card\n"
     ]
    }
   ],
   "source": [
    "import pandas as pd\n",
    "import numpy as np\n",
    "import joblib\n",
    "import os\n",
    "\n",
    "# === Load the saved model and threshold ===\n",
    "model = joblib.load(\"..\\\\models\\\\Random_Forest_best_model.pkl\")\n",
    "with open(\"..\\\\models\\\\best_threshold.txt\", \"r\") as f:\n",
    "    threshold = float(f.read())\n",
    "\n",
    "train_columns = joblib.load(\"..\\\\models\\\\train_columns.pkl\")\n",
    "\n",
    "# === Collect real-time input from user ===\n",
    "print(\"\\n📥 Please enter the following details:\")\n",
    "\n",
    "user_data = {\n",
    "    'CODE_GENDER': input(\"Gender (M/F): \").strip().upper(),\n",
    "    'FLAG_OWN_CAR': input(\"Owns a Car? (Y/N): \").strip().upper(),\n",
    "    'FLAG_OWN_REALTY': input(\"Owns Realty? (Y/N): \").strip().upper(),\n",
    "    'CNT_CHILDREN': int(input(\"Number of Children: \")),\n",
    "    'AMT_INCOME_TOTAL': float(input(\"Annual Income (in numbers): \")),\n",
    "    'NAME_INCOME_TYPE': input(\"Income Type (Working/Pensioner/Commercial associate/State servant/Student): \").strip(),\n",
    "    'NAME_EDUCATION_TYPE': input(\"Education Type (Secondary / Higher / Incomplete / Academic): \").strip(),\n",
    "    'NAME_FAMILY_STATUS': input(\"Family Status (Single/Married/Divorced/Separated/Widow): \").strip(),\n",
    "    'NAME_HOUSING_TYPE': input(\"Housing Type (House / With parents / Rented / Co-op / Office / Municipal): \").strip(),\n",
    "    'DAYS_BIRTH': int(input(\"Days Since Birth (negative number, e.g. -12000): \")),\n",
    "    'DAYS_EMPLOYED': int(input(\"Days Employed (negative if employed): \")),\n",
    "    'FLAG_WORK_PHONE': int(input(\"Has Work Phone? (1 = Yes, 0 = No): \")),\n",
    "    'FLAG_PHONE': int(input(\"Has Phone? (1 = Yes, 0 = No): \")),\n",
    "    'FLAG_EMAIL': int(input(\"Has Email? (1 = Yes, 0 = No): \")),\n",
    "    'CNT_FAM_MEMBERS': float(input(\"Number of Family Members: \"))\n",
    "}\n",
    "\n",
    "# Convert to DataFrame\n",
    "user_df = pd.DataFrame([user_data])\n",
    "\n",
    "# === Preprocess (one-hot encoding + align columns) ===\n",
    "user_df_encoded = pd.get_dummies(user_df)\n",
    "\n",
    "# Add missing columns\n",
    "for col in train_columns:\n",
    "    if col not in user_df_encoded.columns:\n",
    "        user_df_encoded[col] = 0\n",
    "\n",
    "# Keep only training columns\n",
    "user_df_encoded = user_df_encoded[train_columns]\n",
    "\n",
    "# === Predict ===\n",
    "proba = model.predict_proba(user_df_encoded)[:, 1][0]\n",
    "prediction = int(proba >= threshold)\n",
    "\n",
    "# === Result ===\n",
    "print(f\"\\n Probability of Bad Credit: {proba:.4f}\")\n",
    "if prediction == 1:\n",
    "    print(\" Prediction: BAD CREDIT RISK — Not Eligible for Credit Card\")\n",
    "else:\n",
    "    print(\" Prediction: GOOD CREDIT RISK — Eligible for Credit Card\")\n"
   ]
  }
 ],
 "metadata": {
  "kernelspec": {
   "display_name": "Python 3",
   "language": "python",
   "name": "python3"
  },
  "language_info": {
   "codemirror_mode": {
    "name": "ipython",
    "version": 3
   },
   "file_extension": ".py",
   "mimetype": "text/x-python",
   "name": "python",
   "nbconvert_exporter": "python",
   "pygments_lexer": "ipython3",
   "version": "3.12.0"
  }
 },
 "nbformat": 4,
 "nbformat_minor": 5
}
